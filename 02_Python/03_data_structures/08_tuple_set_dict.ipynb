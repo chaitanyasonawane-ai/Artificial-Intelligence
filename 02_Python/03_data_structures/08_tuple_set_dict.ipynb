{
  "nbformat": 4,
  "nbformat_minor": 0,
  "metadata": {
    "colab": {
      "provenance": []
    },
    "kernelspec": {
      "name": "python3",
      "display_name": "Python 3"
    },
    "language_info": {
      "name": "python"
    }
  },
  "cells": [
    {
      "cell_type": "markdown",
      "source": [
        "Tuple"
      ],
      "metadata": {
        "id": "HD7Bjcm_oiaC"
      }
    },
    {
      "cell_type": "markdown",
      "source": [
        "Initialization of Tuple"
      ],
      "metadata": {
        "id": "7Nr6mJp4q5rq"
      }
    },
    {
      "cell_type": "code",
      "execution_count": null,
      "metadata": {
        "colab": {
          "base_uri": "https://localhost:8080/"
        },
        "id": "6n8V-ec0odvf",
        "outputId": "7036fc84-4854-4ae1-a006-d804ca71ce54"
      },
      "outputs": [
        {
          "output_type": "execute_result",
          "data": {
            "text/plain": [
              "tuple"
            ]
          },
          "metadata": {},
          "execution_count": 1
        }
      ],
      "source": [
        "my_tuple = (1, 2, 3)\n",
        "type(my_tuple)"
      ]
    },
    {
      "cell_type": "code",
      "source": [
        "my_tuple[1]"
      ],
      "metadata": {
        "colab": {
          "base_uri": "https://localhost:8080/"
        },
        "id": "Q5H7KZBdo34E",
        "outputId": "5504fb1f-8fbc-4dc3-f7aa-bf43e872e28c"
      },
      "execution_count": null,
      "outputs": [
        {
          "output_type": "execute_result",
          "data": {
            "text/plain": [
              "2"
            ]
          },
          "metadata": {},
          "execution_count": 2
        }
      ]
    },
    {
      "cell_type": "markdown",
      "source": [
        "Access the elements and Slicing Operations"
      ],
      "metadata": {
        "id": "CVH0_WjZq8YL"
      }
    },
    {
      "cell_type": "code",
      "source": [
        "tuple1 = ('apple', 123, True, 3.14, [1, 2, 3])\n",
        "print(tuple1[-1][1])"
      ],
      "metadata": {
        "colab": {
          "base_uri": "https://localhost:8080/"
        },
        "id": "9wU66ndRpH60",
        "outputId": "a1c17dc7-e3c4-4fb9-ba11-7b2601f260b0"
      },
      "execution_count": null,
      "outputs": [
        {
          "output_type": "stream",
          "name": "stdout",
          "text": [
            "2\n"
          ]
        }
      ]
    },
    {
      "cell_type": "code",
      "source": [
        "print(tuple1[-1][-2])"
      ],
      "metadata": {
        "colab": {
          "base_uri": "https://localhost:8080/"
        },
        "id": "a-quvmATrgg0",
        "outputId": "94b2ccbf-8d66-47a6-b707-13d4810e24e3"
      },
      "execution_count": null,
      "outputs": [
        {
          "output_type": "stream",
          "name": "stdout",
          "text": [
            "2\n"
          ]
        }
      ]
    },
    {
      "cell_type": "code",
      "source": [
        "print(tuple1[1:4])"
      ],
      "metadata": {
        "colab": {
          "base_uri": "https://localhost:8080/"
        },
        "id": "pxQie1gtpiO7",
        "outputId": "3625c954-f9f6-4ad7-eec4-059414621bb8"
      },
      "execution_count": null,
      "outputs": [
        {
          "output_type": "stream",
          "name": "stdout",
          "text": [
            "(123, True, 3.14)\n"
          ]
        }
      ]
    },
    {
      "cell_type": "code",
      "source": [
        "print(tuple1[:-1])"
      ],
      "metadata": {
        "colab": {
          "base_uri": "https://localhost:8080/"
        },
        "id": "WqxZ5iB3qHr9",
        "outputId": "cf7c80e9-c18d-4756-c3f3-43962e7aa1c7"
      },
      "execution_count": null,
      "outputs": [
        {
          "output_type": "stream",
          "name": "stdout",
          "text": [
            "('apple', 123, True, 3.14)\n"
          ]
        }
      ]
    },
    {
      "cell_type": "code",
      "source": [
        "print(tuple1[::-1])"
      ],
      "metadata": {
        "colab": {
          "base_uri": "https://localhost:8080/"
        },
        "id": "bbBKl_Pbqqs8",
        "outputId": "2b90a5f9-c0fa-4451-e00b-86118fa93479"
      },
      "execution_count": null,
      "outputs": [
        {
          "output_type": "stream",
          "name": "stdout",
          "text": [
            "([1, 2, 3], 3.14, True, 123, 'apple')\n"
          ]
        }
      ]
    },
    {
      "cell_type": "markdown",
      "source": [
        "Convert tuple into a list"
      ],
      "metadata": {
        "id": "RHd5VfZ6sH3y"
      }
    },
    {
      "cell_type": "code",
      "source": [
        "tuple2 = ('Shubham', 'Preeti', 'Rashmi', 'Ajay', 'Riya')\n",
        "list1 = list(tuple2)\n",
        "print(list1)"
      ],
      "metadata": {
        "colab": {
          "base_uri": "https://localhost:8080/"
        },
        "id": "3v-046rEsK-i",
        "outputId": "1c1f255b-9de1-4f3e-d6a2-a0f21567ac2a"
      },
      "execution_count": null,
      "outputs": [
        {
          "output_type": "stream",
          "name": "stdout",
          "text": [
            "['Shubham', 'Preeti', 'Rashmi', 'Ajay', 'Riya']\n"
          ]
        }
      ]
    },
    {
      "cell_type": "code",
      "source": [
        "list1.extend([\"Sushil\", \"Jitender\", \"Priya\"])\n",
        "print(list1)"
      ],
      "metadata": {
        "colab": {
          "base_uri": "https://localhost:8080/"
        },
        "id": "lfM0aFvzs5TS",
        "outputId": "c6c90032-c428-4968-eb75-140039179f10"
      },
      "execution_count": null,
      "outputs": [
        {
          "output_type": "stream",
          "name": "stdout",
          "text": [
            "['Shubham', 'Preeti', 'Rashmi', 'Ajay', 'Riya', 'Sushil', 'Jitender', 'Priya']\n"
          ]
        }
      ]
    },
    {
      "cell_type": "code",
      "source": [
        "tuple2 = tuple(list1)"
      ],
      "metadata": {
        "id": "oDg-DQM_tVWS"
      },
      "execution_count": null,
      "outputs": []
    },
    {
      "cell_type": "code",
      "source": [
        "print(tuple2)"
      ],
      "metadata": {
        "colab": {
          "base_uri": "https://localhost:8080/"
        },
        "id": "eJQnb0lUtema",
        "outputId": "9e8a1474-ab29-4a00-b161-54c7e699824a"
      },
      "execution_count": null,
      "outputs": [
        {
          "output_type": "stream",
          "name": "stdout",
          "text": [
            "('Shubham', 'Preeti', 'Rashmi', 'Ajay', 'Riya', 'Sushil', 'Jitender', 'Priya')\n"
          ]
        }
      ]
    },
    {
      "cell_type": "markdown",
      "source": [
        "Built-in Functions"
      ],
      "metadata": {
        "id": "Xw4rswhJrB6a"
      }
    },
    {
      "cell_type": "code",
      "source": [
        "min_element = min(my_tuple)\n",
        "max_element = max(my_tuple)\n",
        "print(min_element)\n",
        "print(max_element)"
      ],
      "metadata": {
        "colab": {
          "base_uri": "https://localhost:8080/"
        },
        "id": "AGZihMNFq0ns",
        "outputId": "5f23e11e-a26e-435f-cb36-cf5389c98001"
      },
      "execution_count": null,
      "outputs": [
        {
          "output_type": "stream",
          "name": "stdout",
          "text": [
            "1\n",
            "3\n"
          ]
        }
      ]
    },
    {
      "cell_type": "code",
      "source": [
        "sum_element = sum(my_tuple)\n",
        "print(sum_element)"
      ],
      "metadata": {
        "colab": {
          "base_uri": "https://localhost:8080/"
        },
        "id": "_vxmYHbLrTMT",
        "outputId": "998b96f7-4bf3-42c4-81ae-54060d5e4984"
      },
      "execution_count": null,
      "outputs": [
        {
          "output_type": "stream",
          "name": "stdout",
          "text": [
            "6\n"
          ]
        }
      ]
    },
    {
      "cell_type": "code",
      "source": [
        "tuple3 = (1, 2, 3, 4, 5, 3, 7, 8, 11, 12, 9, 2)\n",
        "## frequency of any given element\n",
        "count_2 = tuple3.count(2)\n",
        "print(count_2)"
      ],
      "metadata": {
        "colab": {
          "base_uri": "https://localhost:8080/"
        },
        "id": "FSQeYW09sC_M",
        "outputId": "20e48b2f-1885-4c71-df30-1c628877d248"
      },
      "execution_count": null,
      "outputs": [
        {
          "output_type": "stream",
          "name": "stdout",
          "text": [
            "2\n"
          ]
        }
      ]
    },
    {
      "cell_type": "code",
      "source": [
        "pos = tuple3.index(2)\n",
        "print(pos)"
      ],
      "metadata": {
        "colab": {
          "base_uri": "https://localhost:8080/"
        },
        "id": "7KPvIUDrt-jl",
        "outputId": "a0399ee5-1b1b-48c2-c858-3e3d6b59f52e"
      },
      "execution_count": null,
      "outputs": [
        {
          "output_type": "stream",
          "name": "stdout",
          "text": [
            "1\n"
          ]
        }
      ]
    },
    {
      "cell_type": "code",
      "source": [
        "pos = tuple3.index(20)\n",
        "print(pos)"
      ],
      "metadata": {
        "colab": {
          "base_uri": "https://localhost:8080/",
          "height": 159
        },
        "id": "zBYEGoVJuVqm",
        "outputId": "a67d62ea-3d3e-4ba7-d248-cc4c29e9d548"
      },
      "execution_count": null,
      "outputs": [
        {
          "output_type": "error",
          "ename": "ValueError",
          "evalue": "tuple.index(x): x not in tuple",
          "traceback": [
            "\u001b[0;31m---------------------------------------------------------------------------\u001b[0m",
            "\u001b[0;31mValueError\u001b[0m                                Traceback (most recent call last)",
            "\u001b[0;32m<ipython-input-20-cd817c109120>\u001b[0m in \u001b[0;36m<cell line: 0>\u001b[0;34m()\u001b[0m\n\u001b[0;32m----> 1\u001b[0;31m \u001b[0mpos\u001b[0m \u001b[0;34m=\u001b[0m \u001b[0mtuple3\u001b[0m\u001b[0;34m.\u001b[0m\u001b[0mindex\u001b[0m\u001b[0;34m(\u001b[0m\u001b[0;36m20\u001b[0m\u001b[0;34m)\u001b[0m\u001b[0;34m\u001b[0m\u001b[0;34m\u001b[0m\u001b[0m\n\u001b[0m\u001b[1;32m      2\u001b[0m \u001b[0mprint\u001b[0m\u001b[0;34m(\u001b[0m\u001b[0mpos\u001b[0m\u001b[0;34m)\u001b[0m\u001b[0;34m\u001b[0m\u001b[0;34m\u001b[0m\u001b[0m\n",
            "\u001b[0;31mValueError\u001b[0m: tuple.index(x): x not in tuple"
          ]
        }
      ]
    },
    {
      "cell_type": "code",
      "source": [
        "tup = (1)\n",
        "list1 = [1]\n",
        "type(tup)"
      ],
      "metadata": {
        "colab": {
          "base_uri": "https://localhost:8080/"
        },
        "id": "tEjkT_NqugIL",
        "outputId": "7a921cb2-97e8-468b-b0de-def684eeaf15"
      },
      "execution_count": null,
      "outputs": [
        {
          "output_type": "execute_result",
          "data": {
            "text/plain": [
              "int"
            ]
          },
          "metadata": {},
          "execution_count": 21
        }
      ]
    },
    {
      "cell_type": "code",
      "source": [
        "tuple4 = (2, )\n",
        "print(tuple4)\n",
        "type(tuple4)"
      ],
      "metadata": {
        "colab": {
          "base_uri": "https://localhost:8080/"
        },
        "id": "UrSr4rSOurgq",
        "outputId": "e9e2ef7c-c256-4a75-bc3b-a1ca98c3c1d8"
      },
      "execution_count": null,
      "outputs": [
        {
          "output_type": "stream",
          "name": "stdout",
          "text": [
            "(2,)\n"
          ]
        },
        {
          "output_type": "execute_result",
          "data": {
            "text/plain": [
              "tuple"
            ]
          },
          "metadata": {},
          "execution_count": 24
        }
      ]
    },
    {
      "cell_type": "code",
      "source": [
        "my_tuple"
      ],
      "metadata": {
        "colab": {
          "base_uri": "https://localhost:8080/"
        },
        "id": "t9WJ-oIHuwoC",
        "outputId": "3289c7e5-7eb8-4eeb-f936-9a45e33e70af"
      },
      "execution_count": null,
      "outputs": [
        {
          "output_type": "execute_result",
          "data": {
            "text/plain": [
              "(1, 2, 3)"
            ]
          },
          "metadata": {},
          "execution_count": 25
        }
      ]
    },
    {
      "cell_type": "code",
      "source": [
        "a, b, c = my_tuple\n",
        "print(a)\n",
        "print(b)\n",
        "print(c)"
      ],
      "metadata": {
        "colab": {
          "base_uri": "https://localhost:8080/"
        },
        "id": "oOtkk04FvPr7",
        "outputId": "27cca21c-4b63-4684-d739-286655961f37"
      },
      "execution_count": null,
      "outputs": [
        {
          "output_type": "stream",
          "name": "stdout",
          "text": [
            "1\n",
            "2\n",
            "3\n"
          ]
        }
      ]
    },
    {
      "cell_type": "code",
      "source": [
        "my_tuple = (1, 2, 3, 4, 5, 6, 7)\n",
        "a, *b, c = my_tuple\n",
        "print(a)\n",
        "print(b)\n",
        "print(c)"
      ],
      "metadata": {
        "colab": {
          "base_uri": "https://localhost:8080/"
        },
        "id": "750PoM6nvZYy",
        "outputId": "f3894c21-8886-4dd5-d1e8-5f9640586561"
      },
      "execution_count": null,
      "outputs": [
        {
          "output_type": "stream",
          "name": "stdout",
          "text": [
            "1\n",
            "[2, 3, 4, 5, 6]\n",
            "7\n"
          ]
        }
      ]
    },
    {
      "cell_type": "code",
      "source": [
        "tuple1 = (1, 2, 3)\n",
        "tuple2 = ('a', 'b', 'c')\n",
        "\n",
        "combined_tuple = tuple1 + tuple2\n",
        "print(combined_tuple)"
      ],
      "metadata": {
        "colab": {
          "base_uri": "https://localhost:8080/"
        },
        "id": "MYvmy__cvvPS",
        "outputId": "0c88ff03-4402-4dbc-930a-364399146efe"
      },
      "execution_count": null,
      "outputs": [
        {
          "output_type": "stream",
          "name": "stdout",
          "text": [
            "(1, 2, 3, 'a', 'b', 'c')\n"
          ]
        }
      ]
    },
    {
      "cell_type": "code",
      "source": [
        "tuple1 = (1, 2, 3)\n",
        "tuple2 = (7, )\n",
        "\n",
        "combined_tuple = tuple1 + tuple2\n",
        "print(combined_tuple)"
      ],
      "metadata": {
        "colab": {
          "base_uri": "https://localhost:8080/"
        },
        "id": "RMNQ3Wh9wIaa",
        "outputId": "6db20bbe-70d7-46c3-a3c0-feae1adecc62"
      },
      "execution_count": null,
      "outputs": [
        {
          "output_type": "stream",
          "name": "stdout",
          "text": [
            "(1, 2, 3, 7)\n"
          ]
        }
      ]
    },
    {
      "cell_type": "code",
      "source": [
        "## this is not a tuple\n",
        "tuple2 = (7, )\n",
        "type(tuple2)"
      ],
      "metadata": {
        "colab": {
          "base_uri": "https://localhost:8080/"
        },
        "id": "tc4b5POCwRQV",
        "outputId": "6423f70c-bb4d-4a52-c89f-a14fff394079"
      },
      "execution_count": null,
      "outputs": [
        {
          "output_type": "execute_result",
          "data": {
            "text/plain": [
              "tuple"
            ]
          },
          "metadata": {},
          "execution_count": 35
        }
      ]
    },
    {
      "cell_type": "code",
      "source": [
        "list1 = [1]\n",
        "print(list1)"
      ],
      "metadata": {
        "colab": {
          "base_uri": "https://localhost:8080/"
        },
        "id": "9cL18X5p1D_J",
        "outputId": "0a0efea7-08e0-4767-986a-3031643f3be6"
      },
      "execution_count": null,
      "outputs": [
        {
          "output_type": "stream",
          "name": "stdout",
          "text": [
            "[1]\n"
          ]
        }
      ]
    },
    {
      "cell_type": "code",
      "source": [
        "type(list1)"
      ],
      "metadata": {
        "colab": {
          "base_uri": "https://localhost:8080/"
        },
        "id": "2h-VL-W11Hoj",
        "outputId": "52ed0380-ff03-4f18-fd41-672d000efe31"
      },
      "execution_count": null,
      "outputs": [
        {
          "output_type": "execute_result",
          "data": {
            "text/plain": [
              "list"
            ]
          },
          "metadata": {},
          "execution_count": 44
        }
      ]
    },
    {
      "cell_type": "markdown",
      "source": [
        "Sets"
      ],
      "metadata": {
        "id": "93BMPU5qzcQK"
      }
    },
    {
      "cell_type": "code",
      "source": [
        "set1 = set() ## Empty set\n",
        "set2 = {1, 2, 3}\n",
        "set3 = {1, \"One\", 3.4}"
      ],
      "metadata": {
        "id": "mbjHmKo7wzsK"
      },
      "execution_count": null,
      "outputs": []
    },
    {
      "cell_type": "code",
      "source": [
        "print(set3)"
      ],
      "metadata": {
        "colab": {
          "base_uri": "https://localhost:8080/"
        },
        "id": "sm9anV-ez38s",
        "outputId": "73a27227-b9a9-4d35-8c64-4cf8cd5d5299"
      },
      "execution_count": null,
      "outputs": [
        {
          "output_type": "stream",
          "name": "stdout",
          "text": [
            "{1, 3.4, 'One'}\n"
          ]
        }
      ]
    },
    {
      "cell_type": "code",
      "source": [
        "type(set3)"
      ],
      "metadata": {
        "colab": {
          "base_uri": "https://localhost:8080/"
        },
        "id": "-34A9e0az5WC",
        "outputId": "f81c124b-94ad-4ce8-fc25-c2fca74c7fe7"
      },
      "execution_count": null,
      "outputs": [
        {
          "output_type": "execute_result",
          "data": {
            "text/plain": [
              "set"
            ]
          },
          "metadata": {},
          "execution_count": 38
        }
      ]
    },
    {
      "cell_type": "code",
      "source": [
        "set4 = {1, 2, 3, 4, 2, 3, 3, 2, 4, 4, 3, 2}\n",
        "print(set4)"
      ],
      "metadata": {
        "colab": {
          "base_uri": "https://localhost:8080/"
        },
        "id": "GodHtlZLz6pS",
        "outputId": "f93f695e-0581-4d0f-fa0b-d9e2f2be2248"
      },
      "execution_count": null,
      "outputs": [
        {
          "output_type": "stream",
          "name": "stdout",
          "text": [
            "{1, 2, 3, 4}\n"
          ]
        }
      ]
    },
    {
      "cell_type": "markdown",
      "source": [
        "Note: Sets in Python do not require a comma after a single element"
      ],
      "metadata": {
        "id": "fCES6GWC0b-h"
      }
    },
    {
      "cell_type": "code",
      "source": [
        "single_element_set = {42}\n",
        "print(single_element_set)"
      ],
      "metadata": {
        "colab": {
          "base_uri": "https://localhost:8080/"
        },
        "id": "hv5TthuR0EC6",
        "outputId": "53d25f53-1049-4c31-e306-79ca828b1bbd"
      },
      "execution_count": null,
      "outputs": [
        {
          "output_type": "stream",
          "name": "stdout",
          "text": [
            "{42}\n"
          ]
        }
      ]
    },
    {
      "cell_type": "code",
      "source": [
        "type(single_element_set)"
      ],
      "metadata": {
        "colab": {
          "base_uri": "https://localhost:8080/"
        },
        "id": "_zfyoSAm0ZSM",
        "outputId": "0210e3b7-c8d7-4719-f7b1-c48991d1408a"
      },
      "execution_count": null,
      "outputs": [
        {
          "output_type": "execute_result",
          "data": {
            "text/plain": [
              "set"
            ]
          },
          "metadata": {},
          "execution_count": 41
        }
      ]
    },
    {
      "cell_type": "code",
      "source": [
        "my_string = \"hello\"\n",
        "my_set = set(my_string)\n",
        "print(my_set)"
      ],
      "metadata": {
        "colab": {
          "base_uri": "https://localhost:8080/"
        },
        "id": "LLCDKHyD0bR9",
        "outputId": "55c6bc4f-3342-4d98-cc8a-0375433892d1"
      },
      "execution_count": null,
      "outputs": [
        {
          "output_type": "stream",
          "name": "stdout",
          "text": [
            "{'l', 'h', 'e', 'o'}\n"
          ]
        }
      ]
    },
    {
      "cell_type": "code",
      "source": [
        "my_set"
      ],
      "metadata": {
        "colab": {
          "base_uri": "https://localhost:8080/"
        },
        "id": "yrNeGkw202Dz",
        "outputId": "b9ec7773-3bbe-46eb-d08b-ee3e0cab48fa"
      },
      "execution_count": null,
      "outputs": [
        {
          "output_type": "execute_result",
          "data": {
            "text/plain": [
              "{'e', 'h', 'l', 'o'}"
            ]
          },
          "metadata": {},
          "execution_count": 46
        }
      ]
    },
    {
      "cell_type": "code",
      "source": [
        "print('e' in my_set)"
      ],
      "metadata": {
        "colab": {
          "base_uri": "https://localhost:8080/"
        },
        "id": "vt9j2rjd19iS",
        "outputId": "4388f2ce-d4ed-4c0e-a32e-240e30eb3263"
      },
      "execution_count": null,
      "outputs": [
        {
          "output_type": "stream",
          "name": "stdout",
          "text": [
            "True\n"
          ]
        }
      ]
    },
    {
      "cell_type": "code",
      "source": [
        "len(my_set)"
      ],
      "metadata": {
        "colab": {
          "base_uri": "https://localhost:8080/"
        },
        "id": "2FjptiNY2Dgk",
        "outputId": "eb1d2a42-442b-4f37-e9b8-6c676ab574e2"
      },
      "execution_count": null,
      "outputs": [
        {
          "output_type": "execute_result",
          "data": {
            "text/plain": [
              "4"
            ]
          },
          "metadata": {},
          "execution_count": 48
        }
      ]
    },
    {
      "cell_type": "code",
      "source": [
        "my_tuple = tuple(my_set)\n",
        "print(my_tuple)"
      ],
      "metadata": {
        "colab": {
          "base_uri": "https://localhost:8080/"
        },
        "id": "VZtU59O02hES",
        "outputId": "808410f1-9b91-4215-896b-af42331b74f5"
      },
      "execution_count": null,
      "outputs": [
        {
          "output_type": "stream",
          "name": "stdout",
          "text": [
            "('l', 'h', 'e', 'o')\n"
          ]
        }
      ]
    },
    {
      "cell_type": "code",
      "source": [
        "my_set = {[a, b, c]}\n",
        "print(my_set)"
      ],
      "metadata": {
        "colab": {
          "base_uri": "https://localhost:8080/",
          "height": 159
        },
        "id": "pgUx_m6320mB",
        "outputId": "9cacebb7-834b-4bd1-8374-5c967dd3da4c"
      },
      "execution_count": null,
      "outputs": [
        {
          "output_type": "error",
          "ename": "TypeError",
          "evalue": "unhashable type: 'list'",
          "traceback": [
            "\u001b[0;31m---------------------------------------------------------------------------\u001b[0m",
            "\u001b[0;31mTypeError\u001b[0m                                 Traceback (most recent call last)",
            "\u001b[0;32m<ipython-input-51-d9b61fa498bf>\u001b[0m in \u001b[0;36m<cell line: 0>\u001b[0;34m()\u001b[0m\n\u001b[0;32m----> 1\u001b[0;31m \u001b[0mmy_set\u001b[0m \u001b[0;34m=\u001b[0m \u001b[0;34m{\u001b[0m\u001b[0;34m[\u001b[0m\u001b[0ma\u001b[0m\u001b[0;34m,\u001b[0m \u001b[0mb\u001b[0m\u001b[0;34m,\u001b[0m \u001b[0mc\u001b[0m\u001b[0;34m]\u001b[0m\u001b[0;34m}\u001b[0m\u001b[0;34m\u001b[0m\u001b[0;34m\u001b[0m\u001b[0m\n\u001b[0m\u001b[1;32m      2\u001b[0m \u001b[0mprint\u001b[0m\u001b[0;34m(\u001b[0m\u001b[0mmy_set\u001b[0m\u001b[0;34m)\u001b[0m\u001b[0;34m\u001b[0m\u001b[0;34m\u001b[0m\u001b[0m\n",
            "\u001b[0;31mTypeError\u001b[0m: unhashable type: 'list'"
          ]
        }
      ]
    },
    {
      "cell_type": "code",
      "source": [
        "my_set"
      ],
      "metadata": {
        "colab": {
          "base_uri": "https://localhost:8080/"
        },
        "id": "eRdSfFnn4Fpy",
        "outputId": "341f7364-d2ac-4977-c92f-86d934959c35"
      },
      "execution_count": null,
      "outputs": [
        {
          "output_type": "execute_result",
          "data": {
            "text/plain": [
              "{1, 2, 3, 4, 5, 6, 7, 8, 9, 10}"
            ]
          },
          "metadata": {},
          "execution_count": 60
        }
      ]
    },
    {
      "cell_type": "code",
      "source": [
        "my_set_1 = {('a', 'b', 'c')}\n",
        "print(my_set_1)"
      ],
      "metadata": {
        "colab": {
          "base_uri": "https://localhost:8080/"
        },
        "id": "CYyLslpW4IIb",
        "outputId": "df695dbf-f21f-41c8-dd7b-5139cf26f7fb"
      },
      "execution_count": null,
      "outputs": [
        {
          "output_type": "stream",
          "name": "stdout",
          "text": [
            "{('a', 'b', 'c')}\n"
          ]
        }
      ]
    },
    {
      "cell_type": "markdown",
      "source": [
        "Built in functions"
      ],
      "metadata": {
        "id": "U2L4BkcF3F4p"
      }
    },
    {
      "cell_type": "markdown",
      "source": [
        "min(), max(), sum()"
      ],
      "metadata": {
        "id": "3JpRL7ZD2YpZ"
      }
    },
    {
      "cell_type": "code",
      "source": [
        "my_set = {1, 2, 3, 4, 5, 6, 7}"
      ],
      "metadata": {
        "id": "zGqdLCY72QrN"
      },
      "execution_count": null,
      "outputs": []
    },
    {
      "cell_type": "code",
      "source": [
        "my_set"
      ],
      "metadata": {
        "colab": {
          "base_uri": "https://localhost:8080/"
        },
        "id": "dtWB3UfJ3Kq6",
        "outputId": "d1a6b112-7d6c-47b3-ce7f-86d14205a719"
      },
      "execution_count": null,
      "outputs": [
        {
          "output_type": "execute_result",
          "data": {
            "text/plain": [
              "{1, 2, 3, 4, 5, 6, 7}"
            ]
          },
          "metadata": {},
          "execution_count": 54
        }
      ]
    },
    {
      "cell_type": "code",
      "source": [
        "my_set.add(9)"
      ],
      "metadata": {
        "id": "7VeMAJvn3OGF"
      },
      "execution_count": null,
      "outputs": []
    },
    {
      "cell_type": "code",
      "source": [
        "print(my_set)"
      ],
      "metadata": {
        "colab": {
          "base_uri": "https://localhost:8080/"
        },
        "id": "hLdbr6o23Upd",
        "outputId": "e6a73552-5c37-4ab4-d09e-b81a0a866656"
      },
      "execution_count": null,
      "outputs": [
        {
          "output_type": "stream",
          "name": "stdout",
          "text": [
            "{1, 2, 3, 4, 5, 6, 7, 9}\n"
          ]
        }
      ]
    },
    {
      "cell_type": "code",
      "source": [
        "my_set.update([8, 10, 1])\n",
        "print(my_set)"
      ],
      "metadata": {
        "colab": {
          "base_uri": "https://localhost:8080/"
        },
        "id": "-w_eNqXq3WgT",
        "outputId": "ddcc72fd-601c-4222-fa7d-a83d11a32d47"
      },
      "execution_count": null,
      "outputs": [
        {
          "output_type": "stream",
          "name": "stdout",
          "text": [
            "{1, 2, 3, 4, 5, 6, 7, 8, 9, 10}\n"
          ]
        }
      ]
    },
    {
      "cell_type": "markdown",
      "source": [
        "Join Sets"
      ],
      "metadata": {
        "id": "qDLiumJ_4o_6"
      }
    },
    {
      "cell_type": "markdown",
      "source": [
        "Union"
      ],
      "metadata": {
        "id": "Z0OBBFEb5MBS"
      }
    },
    {
      "cell_type": "code",
      "source": [
        "set1 = {1, 2, 3}\n",
        "set2 = {4, 5, 6}\n",
        "union_set = set1.union(set2)  ## set1|set2\n",
        "print(union_set)"
      ],
      "metadata": {
        "colab": {
          "base_uri": "https://localhost:8080/"
        },
        "id": "vi8E5Vpo3lgh",
        "outputId": "71d11e74-a856-4d12-d4b8-ac1d0ff09b75"
      },
      "execution_count": null,
      "outputs": [
        {
          "output_type": "stream",
          "name": "stdout",
          "text": [
            "{1, 2, 3, 4, 5, 6}\n"
          ]
        }
      ]
    },
    {
      "cell_type": "markdown",
      "source": [
        "Intersection"
      ],
      "metadata": {
        "id": "nGGep6sb5M-K"
      }
    },
    {
      "cell_type": "code",
      "source": [
        "set1 = {1, 2, 3}\n",
        "set2 = {3, 5, 6}\n",
        "\n",
        "intersection_set = set1 & set2  ## set1.intersection(set2)\n",
        "print(intersection_set)"
      ],
      "metadata": {
        "colab": {
          "base_uri": "https://localhost:8080/"
        },
        "id": "3a9RJr4U5C96",
        "outputId": "a4ebf3e1-835d-4046-bcbd-89e241ce0c15"
      },
      "execution_count": null,
      "outputs": [
        {
          "output_type": "stream",
          "name": "stdout",
          "text": [
            "{3}\n"
          ]
        }
      ]
    },
    {
      "cell_type": "markdown",
      "source": [
        "Difference"
      ],
      "metadata": {
        "id": "2nlQ0xe35daC"
      }
    },
    {
      "cell_type": "code",
      "source": [
        "set1 = {1, 2, 3}\n",
        "set2 = {3, 5, 6}\n",
        "\n",
        "difference_set = set1 - set2\n",
        "print(difference_set)"
      ],
      "metadata": {
        "colab": {
          "base_uri": "https://localhost:8080/"
        },
        "id": "we9fSwOF5Xuy",
        "outputId": "f945f78a-e697-46d6-b363-cb78ab2ebf42"
      },
      "execution_count": null,
      "outputs": [
        {
          "output_type": "stream",
          "name": "stdout",
          "text": [
            "{1, 2}\n"
          ]
        }
      ]
    },
    {
      "cell_type": "markdown",
      "source": [
        "Symmetric Difference"
      ],
      "metadata": {
        "id": "i6pagrQD5uot"
      }
    },
    {
      "cell_type": "code",
      "source": [
        "set1 = {1, 2, 3}\n",
        "set2 = {3, 5, 6}\n",
        "\n",
        "symmetric_difference = set1.symmetric_difference(set2)  ## set1 ^ set2\n",
        "print(symmetric_difference)"
      ],
      "metadata": {
        "colab": {
          "base_uri": "https://localhost:8080/"
        },
        "id": "FNrjhuwP5rTK",
        "outputId": "f449bb0e-4ed1-4c97-cf4a-67e48235c95e"
      },
      "execution_count": null,
      "outputs": [
        {
          "output_type": "stream",
          "name": "stdout",
          "text": [
            "{1, 2, 5, 6}\n"
          ]
        }
      ]
    },
    {
      "cell_type": "markdown",
      "source": [
        "Task: to explore and give me the difference between the above methods vs the _update() methods in the set."
      ],
      "metadata": {
        "id": "CT5nj1JT6VBp"
      }
    },
    {
      "cell_type": "markdown",
      "source": [
        "difference_update()\n",
        "\n",
        "intersection_update() and so on"
      ],
      "metadata": {
        "id": "z89oMOTF6Lbq"
      }
    },
    {
      "cell_type": "markdown",
      "source": [
        "Task: Merge the below two tuples and then remove the duplicate values and return the final output as a tuple.\n",
        "\n",
        "tup1 = (1, 2, 3)\n",
        "\n",
        "tup2 = (3, 4, 5)"
      ],
      "metadata": {
        "id": "-iNzXsqr7cTZ"
      }
    },
    {
      "cell_type": "code",
      "source": [
        "## function definition\n",
        "def merge_and_remove_duplicates(tup1, tup2):\n",
        "  return tuple(set(tup1).union(tup2))\n",
        "\n",
        "## driver code\n",
        "tup1 = (1, 2, 3)\n",
        "tup2 = (3, 4, 5)\n",
        "\n",
        "## function calling\n",
        "print(merge_and_remove_duplicates(tup1, tup2))"
      ],
      "metadata": {
        "colab": {
          "base_uri": "https://localhost:8080/"
        },
        "id": "7DE7p3q45_0E",
        "outputId": "c6ad4e8a-0596-469c-d2e3-163697488509"
      },
      "execution_count": null,
      "outputs": [
        {
          "output_type": "stream",
          "name": "stdout",
          "text": [
            "(1, 2, 3, 4, 5)\n"
          ]
        }
      ]
    },
    {
      "cell_type": "markdown",
      "source": [
        "Dictionaries in Python"
      ],
      "metadata": {
        "id": "tUzgg_U5BOmj"
      }
    },
    {
      "cell_type": "code",
      "source": [
        "my_dict = {\"name\":\"Priya Bhatia\", \"age\": 27, \"salary\":40000, \"city\": \"delhi\", \"location\": \"saket\"}\n",
        "print(my_dict)"
      ],
      "metadata": {
        "colab": {
          "base_uri": "https://localhost:8080/"
        },
        "id": "lKI2BjQ3-noj",
        "outputId": "58c9e37b-5579-476e-99a6-3a9ae159ee1f"
      },
      "execution_count": null,
      "outputs": [
        {
          "output_type": "stream",
          "name": "stdout",
          "text": [
            "{'name': 'Priya Bhatia', 'age': 27, 'salary': 40000, 'city': 'delhi', 'location': 'saket'}\n"
          ]
        }
      ]
    },
    {
      "cell_type": "code",
      "source": [
        "my_dict['salary']"
      ],
      "metadata": {
        "colab": {
          "base_uri": "https://localhost:8080/"
        },
        "id": "l5xxp5XMBnVy",
        "outputId": "d624271a-2689-41b8-f086-b04baadb3d6f"
      },
      "execution_count": null,
      "outputs": [
        {
          "output_type": "execute_result",
          "data": {
            "text/plain": [
              "40000"
            ]
          },
          "metadata": {},
          "execution_count": 68
        }
      ]
    },
    {
      "cell_type": "code",
      "source": [
        "scores = {'Alice':85, \"Bob\":76, \"Charlie\":56, \"David\":78, \"Eve\":90}\n",
        "print(scores)"
      ],
      "metadata": {
        "colab": {
          "base_uri": "https://localhost:8080/"
        },
        "id": "I9orv49fB8zp",
        "outputId": "74faead4-662a-4fba-8d8f-3a9823bf020c"
      },
      "execution_count": null,
      "outputs": [
        {
          "output_type": "stream",
          "name": "stdout",
          "text": [
            "{'Alice': 85, 'Bob': 76, 'Charlie': 56, 'David': 78, 'Eve': 90}\n"
          ]
        }
      ]
    },
    {
      "cell_type": "code",
      "source": [
        "scores['Charlie']"
      ],
      "metadata": {
        "colab": {
          "base_uri": "https://localhost:8080/"
        },
        "id": "uCBK4fNiCXpC",
        "outputId": "b41a7bff-0c81-4389-fff1-5031019eec84"
      },
      "execution_count": null,
      "outputs": [
        {
          "output_type": "execute_result",
          "data": {
            "text/plain": [
              "56"
            ]
          },
          "metadata": {},
          "execution_count": 71
        }
      ]
    },
    {
      "cell_type": "code",
      "source": [
        "min_score = min(scores.values())\n",
        "print(min_score)"
      ],
      "metadata": {
        "colab": {
          "base_uri": "https://localhost:8080/"
        },
        "id": "9dzHqLIPDVY5",
        "outputId": "094e4bd1-a02d-4e8c-cfb6-02646e69d462"
      },
      "execution_count": null,
      "outputs": [
        {
          "output_type": "stream",
          "name": "stdout",
          "text": [
            "56\n"
          ]
        }
      ]
    },
    {
      "cell_type": "markdown",
      "source": [
        "Built-in methods"
      ],
      "metadata": {
        "id": "pBNExuAICwPi"
      }
    },
    {
      "cell_type": "code",
      "source": [
        "print(my_dict.keys())"
      ],
      "metadata": {
        "colab": {
          "base_uri": "https://localhost:8080/"
        },
        "id": "xbyI1aN9Ceaj",
        "outputId": "7a514d51-1cfe-4288-9808-90249fd8e5c1"
      },
      "execution_count": null,
      "outputs": [
        {
          "output_type": "stream",
          "name": "stdout",
          "text": [
            "dict_keys(['name', 'age', 'salary', 'city', 'location'])\n"
          ]
        }
      ]
    },
    {
      "cell_type": "code",
      "source": [
        "print(my_dict.values())"
      ],
      "metadata": {
        "colab": {
          "base_uri": "https://localhost:8080/"
        },
        "id": "T-x-Pkd8C3n8",
        "outputId": "6463e124-05c6-42f9-be92-1b18ce871459"
      },
      "execution_count": null,
      "outputs": [
        {
          "output_type": "stream",
          "name": "stdout",
          "text": [
            "dict_values(['Priya Bhatia', 27, 40000, 'delhi', 'saket'])\n"
          ]
        }
      ]
    },
    {
      "cell_type": "code",
      "source": [
        "print(my_dict.items())"
      ],
      "metadata": {
        "colab": {
          "base_uri": "https://localhost:8080/"
        },
        "id": "tHmsagi8C7sz",
        "outputId": "918167d3-79af-461b-8936-5541e68e7ca5"
      },
      "execution_count": null,
      "outputs": [
        {
          "output_type": "stream",
          "name": "stdout",
          "text": [
            "dict_items([('name', 'Priya Bhatia'), ('age', 27), ('salary', 40000), ('city', 'delhi'), ('location', 'saket')])\n"
          ]
        }
      ]
    },
    {
      "cell_type": "markdown",
      "source": [
        "Add new \"key:value\" pairs in the dictionary"
      ],
      "metadata": {
        "id": "HNu5H_3qEcCZ"
      }
    },
    {
      "cell_type": "code",
      "source": [
        "my_dict"
      ],
      "metadata": {
        "colab": {
          "base_uri": "https://localhost:8080/"
        },
        "id": "8XzEeUBIDCmS",
        "outputId": "b4733c8f-d40f-42af-af1a-e35eeed06e85"
      },
      "execution_count": null,
      "outputs": [
        {
          "output_type": "execute_result",
          "data": {
            "text/plain": [
              "{'name': 'Priya Bhatia',\n",
              " 'age': 27,\n",
              " 'salary': 40000,\n",
              " 'city': 'delhi',\n",
              " 'location': 'saket'}"
            ]
          },
          "metadata": {},
          "execution_count": 76
        }
      ]
    },
    {
      "cell_type": "code",
      "source": [
        "my_dict['position'] = 'Lead Data Scientist'\n",
        "my_dict['company'] = 'Turing'\n",
        "print(my_dict)"
      ],
      "metadata": {
        "colab": {
          "base_uri": "https://localhost:8080/"
        },
        "id": "Cwa_KqsLD-Fm",
        "outputId": "58e1cfc3-3958-4875-8a80-caa0287d2de6"
      },
      "execution_count": null,
      "outputs": [
        {
          "output_type": "stream",
          "name": "stdout",
          "text": [
            "{'name': 'Priya Bhatia', 'age': 27, 'salary': 40000, 'city': 'delhi', 'location': 'saket', 'position': 'Lead Data Scientist', 'company': 'Turing'}\n"
          ]
        }
      ]
    },
    {
      "cell_type": "code",
      "source": [
        "my_dict.update({'salary':50000, 'city':'Noida'})\n",
        "print(my_dict)"
      ],
      "metadata": {
        "colab": {
          "base_uri": "https://localhost:8080/"
        },
        "id": "quzUpfb5ENlb",
        "outputId": "75ef95ea-0dac-4a0a-d206-95c2415f894b"
      },
      "execution_count": null,
      "outputs": [
        {
          "output_type": "stream",
          "name": "stdout",
          "text": [
            "{'name': 'Priya Bhatia', 'age': 27, 'salary': 50000, 'city': 'Noida', 'location': 'saket', 'position': 'Lead Data Scientist', 'company': 'Turing'}\n"
          ]
        }
      ]
    },
    {
      "cell_type": "code",
      "source": [
        "del my_dict['location']"
      ],
      "metadata": {
        "id": "KOazH0rGE9vq"
      },
      "execution_count": null,
      "outputs": []
    },
    {
      "cell_type": "code",
      "source": [
        "print(my_dict)"
      ],
      "metadata": {
        "colab": {
          "base_uri": "https://localhost:8080/"
        },
        "id": "s67GQ3K-FHYz",
        "outputId": "d0c21453-9a27-4c20-f282-7dfc6998ba11"
      },
      "execution_count": null,
      "outputs": [
        {
          "output_type": "stream",
          "name": "stdout",
          "text": [
            "{'name': 'Priya Bhatia', 'age': 27, 'salary': 50000, 'city': 'Noida', 'position': 'Lead Data Scientist', 'company': 'Turing'}\n"
          ]
        }
      ]
    },
    {
      "cell_type": "markdown",
      "source": [
        "Task: Check if all the elements in the list are unique or not?\n",
        "\n",
        "\n",
        "list1 = [1, 2, 3, 4, 2]\n",
        "\n",
        "Output: False"
      ],
      "metadata": {
        "id": "H9R09edhF1xp"
      }
    },
    {
      "cell_type": "code",
      "source": [
        "def all_unique(list1):\n",
        "  return len(list1) == len(set(list1))\n",
        "\n",
        "\n",
        "list1 = [1, 2, 3, 4, 2]\n",
        "print(all_unique(list1))"
      ],
      "metadata": {
        "colab": {
          "base_uri": "https://localhost:8080/"
        },
        "id": "zY8lnuKLF1kZ",
        "outputId": "c0024f0f-31ab-4c2b-ae13-e3c1ba12e220"
      },
      "execution_count": null,
      "outputs": [
        {
          "output_type": "stream",
          "name": "stdout",
          "text": [
            "False\n"
          ]
        }
      ]
    },
    {
      "cell_type": "markdown",
      "source": [
        "Task: Count of occurence of each element in a list.\n",
        "\n",
        "lst = ['a', 'b', 'a', 'b', 'c', 'a']\n",
        "\n",
        "Output: {'a':3, 'b':2, 'c':1}"
      ],
      "metadata": {
        "id": "C1E4RqvPGslK"
      }
    },
    {
      "cell_type": "code",
      "source": [
        "lst = ['a', 'b', 'a', 'b', 'c', 'a']\n",
        "output = {}\n",
        "\n",
        "for item in lst:\n",
        "    if item in output:\n",
        "       ## increment of the count value\n",
        "        output[item] += 1\n",
        "    else:\n",
        "        output[item] = 1\n",
        "\n",
        "print(output)"
      ],
      "metadata": {
        "colab": {
          "base_uri": "https://localhost:8080/"
        },
        "id": "l55TlgvEGdSK",
        "outputId": "09952159-73f8-4daf-b296-888bf766f975"
      },
      "execution_count": null,
      "outputs": [
        {
          "output_type": "stream",
          "name": "stdout",
          "text": [
            "{'a': 3, 'b': 2, 'c': 1}\n"
          ]
        }
      ]
    },
    {
      "cell_type": "markdown",
      "source": [
        "Swap key and values in a dictionary\n",
        "\n",
        "dict1 = {'a':1, 'b':2, 'c':3}\n",
        "\n",
        "Output: {1: 'a', 2:'b', 3:'c'}\n"
      ],
      "metadata": {
        "id": "bPrioQ5ZITYT"
      }
    },
    {
      "cell_type": "code",
      "source": [
        "dict1 = {'a': 1, 'b': 2, 'c': 3}\n",
        "\n",
        "## Dictionary comprehensions\n",
        "swapped = {value: key for key, value in dict1.items()}\n",
        "\n",
        "print(swapped)"
      ],
      "metadata": {
        "colab": {
          "base_uri": "https://localhost:8080/"
        },
        "id": "3uRnkWDsHeSU",
        "outputId": "b35dd0b7-b9ae-439c-ea65-0398b144cdb3"
      },
      "execution_count": null,
      "outputs": [
        {
          "output_type": "stream",
          "name": "stdout",
          "text": [
            "{1: 'a', 2: 'b', 3: 'c'}\n"
          ]
        }
      ]
    },
    {
      "cell_type": "code",
      "source": [],
      "metadata": {
        "id": "y5R17GsmJBHE"
      },
      "execution_count": null,
      "outputs": []
    }
  ]
}