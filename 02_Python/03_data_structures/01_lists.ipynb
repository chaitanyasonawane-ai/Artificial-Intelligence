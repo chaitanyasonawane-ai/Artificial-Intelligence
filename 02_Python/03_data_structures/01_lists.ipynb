{
 "cells": [
  {
   "cell_type": "code",
   "execution_count": 4,
   "id": "09a73e2f",
   "metadata": {},
   "outputs": [],
   "source": [
    "# list: ordered, mutable collections of items, diff-diff data types"
   ]
  },
  {
   "cell_type": "code",
   "execution_count": 5,
   "id": "f6030cfd",
   "metadata": {},
   "outputs": [
    {
     "name": "stdout",
     "output_type": "stream",
     "text": [
      "<class 'list'>\n"
     ]
    }
   ],
   "source": [
    "lst= [\"this\", \"is\", \"list\"]\n",
    "print(type(lst))"
   ]
  },
  {
   "cell_type": "code",
   "execution_count": 6,
   "id": "622befcd",
   "metadata": {},
   "outputs": [
    {
     "name": "stdout",
     "output_type": "stream",
     "text": [
      "['red', 'yellow', 'green', 44.5, 66, True]\n"
     ]
    }
   ],
   "source": [
    "# list can have multiple datatypes\n",
    "clrs=[\"red\", \"yellow\", \"green\", 44.5,66, True]\n",
    "print(clrs)"
   ]
  },
  {
   "cell_type": "code",
   "execution_count": 7,
   "id": "3d2de063",
   "metadata": {},
   "outputs": [
    {
     "name": "stdout",
     "output_type": "stream",
     "text": [
      "silver\n",
      "blue\n"
     ]
    }
   ],
   "source": [
    "clrs= [\"red\", \"yellow\", \"silver\", \"green\", \"blue\"]\n",
    "\n",
    "# acces list\n",
    "print(clrs[2])\n",
    "print(clrs[-1])"
   ]
  },
  {
   "cell_type": "code",
   "execution_count": 8,
   "id": "e3f7f30f",
   "metadata": {},
   "outputs": [
    {
     "name": "stdout",
     "output_type": "stream",
     "text": [
      "['yellow', 'silver']\n",
      "['silver', 'green', 'blue']\n"
     ]
    }
   ],
   "source": [
    "print(clrs[1:3])        #3 excluded\n",
    "print(clrs[2:])"
   ]
  },
  {
   "cell_type": "code",
   "execution_count": 9,
   "id": "c3a35204",
   "metadata": {},
   "outputs": [
    {
     "name": "stdout",
     "output_type": "stream",
     "text": [
      "['purple', 'yellow', 'silver', 'green', 'blue']\n"
     ]
    }
   ],
   "source": [
    "# modify list\n",
    "clrs[0]= \"purple\"\n",
    "print(clrs)\n"
   ]
  },
  {
   "cell_type": "code",
   "execution_count": 10,
   "id": "5b371fc2",
   "metadata": {},
   "outputs": [
    {
     "name": "stdout",
     "output_type": "stream",
     "text": [
      "['purple', 'yellow', 'silver', 'green', 'blue', 'orange']\n"
     ]
    }
   ],
   "source": [
    "# list methods\n",
    "clrs.append(\"orange\")       #add at last\n",
    "print(clrs)"
   ]
  },
  {
   "cell_type": "code",
   "execution_count": 11,
   "id": "297502c6",
   "metadata": {},
   "outputs": [
    {
     "name": "stdout",
     "output_type": "stream",
     "text": [
      "['purple', 'yellow', 'silver', 'grey', 'green', 'blue', 'orange']\n"
     ]
    }
   ],
   "source": [
    "clrs.insert(3, \"grey\")\n",
    "print(clrs)"
   ]
  },
  {
   "cell_type": "code",
   "execution_count": 12,
   "id": "509feb82",
   "metadata": {},
   "outputs": [
    {
     "name": "stdout",
     "output_type": "stream",
     "text": [
      "['purple', 'yellow', 'silver', 'grey', 'green', 'blue']\n"
     ]
    }
   ],
   "source": [
    "clrs.pop()      #remove last\n",
    "print(clrs)"
   ]
  },
  {
   "cell_type": "code",
   "execution_count": 13,
   "id": "3f6e8544",
   "metadata": {},
   "outputs": [
    {
     "name": "stdout",
     "output_type": "stream",
     "text": [
      "['blue', 'green', 'grey', 'purple', 'silver', 'yellow']\n"
     ]
    }
   ],
   "source": [
    "clrs.sort()\n",
    "print(clrs)"
   ]
  },
  {
   "cell_type": "code",
   "execution_count": 14,
   "id": "706c135e",
   "metadata": {},
   "outputs": [
    {
     "name": "stdout",
     "output_type": "stream",
     "text": [
      "['yellow', 'silver', 'purple', 'grey', 'green', 'blue']\n"
     ]
    }
   ],
   "source": [
    "clrs.reverse()\n",
    "print(clrs)"
   ]
  },
  {
   "cell_type": "code",
   "execution_count": 15,
   "id": "52b9f9d3",
   "metadata": {},
   "outputs": [
    {
     "name": "stdout",
     "output_type": "stream",
     "text": [
      "[3, 4, 5]\n",
      "[1, 2, 3, 4, 5]\n",
      "[6, 7, 8, 9, 10]\n",
      "[1, 6]\n",
      "[10, 9, 8, 7, 6, 5, 4, 3, 2, 1]\n"
     ]
    }
   ],
   "source": [
    "# slicing list\n",
    "numbers= [1,2,3,4,5,6,7,8,9,10]\n",
    "print(numbers[2:5])\n",
    "print(numbers[:5])\n",
    "print(numbers[5:])\n",
    "print(numbers[::5])\n",
    "print(numbers[::-1])"
   ]
  },
  {
   "cell_type": "code",
   "execution_count": null,
   "id": "2e7b2ab7",
   "metadata": {},
   "outputs": [
    {
     "name": "stdout",
     "output_type": "stream",
     "text": [
      "yellow\n",
      "silver\n",
      "purple\n",
      "grey\n",
      "green\n",
      "blue\n"
     ]
    },
    {
     "ename": "",
     "evalue": "",
     "output_type": "error",
     "traceback": [
      "\u001b[1;31mThe Kernel crashed while executing code in the current cell or a previous cell. \n",
      "\u001b[1;31mPlease review the code in the cell(s) to identify a possible cause of the failure. \n",
      "\u001b[1;31mClick <a href='https://aka.ms/vscodeJupyterKernelCrash'>here</a> for more info. \n",
      "\u001b[1;31mView Jupyter <a href='command:jupyter.viewOutput'>log</a> for further details."
     ]
    }
   ],
   "source": [
    "# iterating over list\n",
    "for clrs in clrs:\n",
    "    print(clrs)"
   ]
  },
  {
   "cell_type": "code",
   "execution_count": null,
   "id": "3d28903b",
   "metadata": {},
   "outputs": [],
   "source": []
  }
 ],
 "metadata": {
  "kernelspec": {
   "display_name": "myenv",
   "language": "python",
   "name": "python3"
  },
  "language_info": {
   "codemirror_mode": {
    "name": "ipython",
    "version": 3
   },
   "file_extension": ".py",
   "mimetype": "text/x-python",
   "name": "python",
   "nbconvert_exporter": "python",
   "pygments_lexer": "ipython3",
   "version": "3.13.1"
  }
 },
 "nbformat": 4,
 "nbformat_minor": 5
}
