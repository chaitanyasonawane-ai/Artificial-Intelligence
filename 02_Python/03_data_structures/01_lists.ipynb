{
 "cells": [
  {
   "cell_type": "code",
   "execution_count": null,
   "id": "09a73e2f",
   "metadata": {},
   "outputs": [],
   "source": [
    "# list: ordered, mutable collections of items, diff-diff data types"
   ]
  },
  {
   "cell_type": "code",
   "execution_count": 8,
   "id": "f6030cfd",
   "metadata": {},
   "outputs": [
    {
     "name": "stdout",
     "output_type": "stream",
     "text": [
      "<class 'list'>\n"
     ]
    }
   ],
   "source": [
    "lst= [\"this\", \"is\", \"list\"]\n",
    "print(type(lst))"
   ]
  },
  {
   "cell_type": "code",
   "execution_count": 9,
   "id": "622befcd",
   "metadata": {},
   "outputs": [
    {
     "name": "stdout",
     "output_type": "stream",
     "text": [
      "['red', 'yellow', 'green', 44.5, 66, True]\n"
     ]
    }
   ],
   "source": [
    "# list can have multiple datatypes\n",
    "clrs=[\"red\", \"yellow\", \"green\", 44.5,66, True]\n",
    "print(clrs)"
   ]
  },
  {
   "cell_type": "code",
   "execution_count": null,
   "id": "3d2de063",
   "metadata": {},
   "outputs": [
    {
     "name": "stdout",
     "output_type": "stream",
     "text": [
      "silver\n",
      "blue\n"
     ]
    }
   ],
   "source": [
    "clrs= [\"red\", \"yellow\", \"silver\", \"green\", \"blue\"]\n",
    "\n",
    "# acces list\n",
    "print(clrs[2])\n",
    "print(clrs[-1])"
   ]
  },
  {
   "cell_type": "code",
   "execution_count": 16,
   "id": "e3f7f30f",
   "metadata": {},
   "outputs": [
    {
     "name": "stdout",
     "output_type": "stream",
     "text": [
      "['yellow', 'silver']\n",
      "['silver', 'green', 'blue']\n"
     ]
    }
   ],
   "source": [
    "print(clrs[1:3])        #3 excluded\n",
    "print(clrs[2:])"
   ]
  },
  {
   "cell_type": "code",
   "execution_count": 17,
   "id": "c3a35204",
   "metadata": {},
   "outputs": [
    {
     "name": "stdout",
     "output_type": "stream",
     "text": [
      "['purple', 'yellow', 'silver', 'green', 'blue']\n"
     ]
    }
   ],
   "source": [
    "# modify list\n",
    "clrs[0]= \"purple\"\n",
    "print(clrs)\n"
   ]
  },
  {
   "cell_type": "code",
   "execution_count": 20,
   "id": "5b371fc2",
   "metadata": {},
   "outputs": [
    {
     "name": "stdout",
     "output_type": "stream",
     "text": [
      "['purple', 'yellow', 'silver', 'green', 'blue', 'orange', 'orange', 'orange']\n"
     ]
    }
   ],
   "source": [
    "# list methods\n",
    "clrs.append(\"orange\")       #add at last\n",
    "print(clrs)"
   ]
  },
  {
   "cell_type": "code",
   "execution_count": 21,
   "id": "297502c6",
   "metadata": {},
   "outputs": [
    {
     "name": "stdout",
     "output_type": "stream",
     "text": [
      "['purple', 'yellow', 'silver', 'grey', 'green', 'blue', 'orange', 'orange', 'orange']\n"
     ]
    }
   ],
   "source": [
    "clrs.insert(3, \"grey\")\n",
    "print(clrs)"
   ]
  },
  {
   "cell_type": "code",
   "execution_count": null,
   "id": "509feb82",
   "metadata": {},
   "outputs": [
    {
     "name": "stdout",
     "output_type": "stream",
     "text": [
      "['purple', 'yellow', 'silver', 'grey', 'green', 'blue', 'orange']\n"
     ]
    }
   ],
   "source": [
    "clrs.pop()      #remove last\n",
    "print(clrs)"
   ]
  },
  {
   "cell_type": "code",
   "execution_count": null,
   "id": "24918be9",
   "metadata": {},
   "outputs": [],
   "source": []
  },
  {
   "cell_type": "code",
   "execution_count": null,
   "id": "0f71a48f",
   "metadata": {},
   "outputs": [],
   "source": []
  }
 ],
 "metadata": {
  "kernelspec": {
   "display_name": "myenv",
   "language": "python",
   "name": "python3"
  },
  "language_info": {
   "codemirror_mode": {
    "name": "ipython",
    "version": 3
   },
   "file_extension": ".py",
   "mimetype": "text/x-python",
   "name": "python",
   "nbconvert_exporter": "python",
   "pygments_lexer": "ipython3",
   "version": "3.13.1"
  }
 },
 "nbformat": 4,
 "nbformat_minor": 5
}
