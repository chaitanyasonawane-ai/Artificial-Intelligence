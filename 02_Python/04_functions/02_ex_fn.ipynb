{
 "cells": [
  {
   "cell_type": "code",
   "execution_count": 21,
   "id": "7a444e49",
   "metadata": {},
   "outputs": [
    {
     "name": "stdout",
     "output_type": "stream",
     "text": [
      "77.0\n",
      "35.0\n"
     ]
    }
   ],
   "source": [
    "# temperature conversion\n",
    "def convertTemp(temp,unit):\n",
    "    unit= unit.lower()\n",
    "    if (unit==\"c\"):\n",
    "        return temp *9/5 + 32 \n",
    "    elif (unit==\"f\"):\n",
    "        return (temp-32)*5/9\n",
    "    else:\n",
    "        return none\n",
    "\n",
    "print(convertTemp(25,'c'))\n",
    "print(convertTemp(95, \"F\"))"
   ]
  },
  {
   "cell_type": "code",
   "execution_count": 22,
   "id": "ea9c3f6b",
   "metadata": {},
   "outputs": [],
   "source": [
    "# password strength checker\n"
   ]
  },
  {
   "cell_type": "code",
   "execution_count": 23,
   "id": "470c0397",
   "metadata": {},
   "outputs": [],
   "source": [
    "# check if string is palindrome"
   ]
  },
  {
   "cell_type": "code",
   "execution_count": 24,
   "id": "1066b2a9",
   "metadata": {},
   "outputs": [],
   "source": [
    "# calculate factorial using recursion\n"
   ]
  },
  {
   "cell_type": "code",
   "execution_count": null,
   "id": "018c18ee",
   "metadata": {},
   "outputs": [],
   "source": [
    "# validate email address"
   ]
  }
 ],
 "metadata": {
  "kernelspec": {
   "display_name": "myenv",
   "language": "python",
   "name": "python3"
  },
  "language_info": {
   "codemirror_mode": {
    "name": "ipython",
    "version": 3
   },
   "file_extension": ".py",
   "mimetype": "text/x-python",
   "name": "python",
   "nbconvert_exporter": "python",
   "pygments_lexer": "ipython3",
   "version": "3.13.1"
  }
 },
 "nbformat": 4,
 "nbformat_minor": 5
}
