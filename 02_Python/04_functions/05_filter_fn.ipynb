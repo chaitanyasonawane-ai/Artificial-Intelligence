{
 "cells": [
  {
   "cell_type": "code",
   "execution_count": 2,
   "id": "5ec4a27d",
   "metadata": {},
   "outputs": [],
   "source": [
    "# filter: use to filter from iterable based on condn"
   ]
  },
  {
   "cell_type": "code",
   "execution_count": 3,
   "id": "267554e7",
   "metadata": {},
   "outputs": [
    {
     "data": {
      "text/plain": [
       "True"
      ]
     },
     "execution_count": 3,
     "metadata": {},
     "output_type": "execute_result"
    }
   ],
   "source": [
    "def even(num):\n",
    "    if num%2==0:\n",
    "        return True\n",
    "\n",
    "even(32)"
   ]
  },
  {
   "cell_type": "code",
   "execution_count": 5,
   "id": "0038182c",
   "metadata": {},
   "outputs": [
    {
     "data": {
      "text/plain": [
       "[2, 4, 6, 8]"
      ]
     },
     "execution_count": 5,
     "metadata": {},
     "output_type": "execute_result"
    }
   ],
   "source": [
    "# filter\n",
    "lst= [1,2,3,4,5,6,7,8,9]\n",
    "list(filter(even, lst))       #filter(fn, iterable emlt)\n"
   ]
  },
  {
   "cell_type": "code",
   "execution_count": 8,
   "id": "d911d066",
   "metadata": {},
   "outputs": [
    {
     "name": "stdout",
     "output_type": "stream",
     "text": [
      "[6, 7, 8, 9]\n"
     ]
    }
   ],
   "source": [
    "# filter lambda\n",
    "greatfive= list(filter(lambda x:x>5, lst))\n",
    "print(greatfive)"
   ]
  }
 ],
 "metadata": {
  "kernelspec": {
   "display_name": "myenv",
   "language": "python",
   "name": "python3"
  },
  "language_info": {
   "codemirror_mode": {
    "name": "ipython",
    "version": 3
   },
   "file_extension": ".py",
   "mimetype": "text/x-python",
   "name": "python",
   "nbconvert_exporter": "python",
   "pygments_lexer": "ipython3",
   "version": "3.13.1"
  }
 },
 "nbformat": 4,
 "nbformat_minor": 5
}
