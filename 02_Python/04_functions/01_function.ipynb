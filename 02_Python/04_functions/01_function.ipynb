{
 "cells": [
  {
   "cell_type": "code",
   "execution_count": 2,
   "id": "7839df8e",
   "metadata": {},
   "outputs": [],
   "source": [
    "# function: block of code that perform specific task, to reuse code and organsie code\n",
    "\n",
    "def fun_name(parameters):\n",
    "    #function body\n",
    "    return expression"
   ]
  },
  {
   "cell_type": "code",
   "execution_count": null,
   "id": "923687a9",
   "metadata": {},
   "outputs": [
    {
     "data": {
      "text/plain": [
       "'Odd'"
      ]
     },
     "execution_count": 6,
     "metadata": {},
     "output_type": "execute_result"
    }
   ],
   "source": [
    "number= int(input(\"Enter the number\"))\n",
    "def evenOdd (num):      #fn declaration; num is parameter\n",
    "    if num%2==0:\n",
    "        return \"Even\"\n",
    "    else:\n",
    "        return \"Odd\"        #return\n",
    "    \n",
    "evenOdd(number)     #fn calling; number is argument"
   ]
  },
  {
   "cell_type": "code",
   "execution_count": null,
   "id": "450918d9",
   "metadata": {},
   "outputs": [
    {
     "data": {
      "text/plain": [
       "9"
      ]
     },
     "execution_count": 7,
     "metadata": {},
     "output_type": "execute_result"
    }
   ],
   "source": [
    "# multi parameter fn\n",
    "def addNum (a,b):\n",
    "    return a+b\n",
    "\n",
    "addNum(4,5)"
   ]
  },
  {
   "cell_type": "code",
   "execution_count": 9,
   "id": "e10d80a1",
   "metadata": {},
   "outputs": [
    {
     "name": "stdout",
     "output_type": "stream",
     "text": [
      "Hello Chaitanya, Welcome Back\n",
      "Hello User, Welcome Back\n"
     ]
    }
   ],
   "source": [
    "# default parameter\n",
    "def greet (name= \"User\"):\n",
    "    print(f\"Hello {name}, Welcome Back\")\n",
    "\n",
    "greet(\"Chaitanya\")\n",
    "greet()"
   ]
  },
  {
   "cell_type": "code",
   "execution_count": null,
   "id": "811c2a1a",
   "metadata": {},
   "outputs": [
    {
     "name": "stdout",
     "output_type": "stream",
     "text": [
      "1\n",
      "2\n",
      "3\n",
      "4\n",
      "5\n",
      "6\n",
      "Chaitanya\n"
     ]
    }
   ],
   "source": [
    "# variable length arguments\n",
    "# positional and keywords arguments\n",
    "\n",
    "# positonal args\n",
    "def print_num(*args):           #   *args: multi args\n",
    "    for number in args:\n",
    "        print(number)\n",
    "\n",
    "\n",
    "print_num(1,2,3,4,5,6,\"Chaitanya\")"
   ]
  },
  {
   "cell_type": "code",
   "execution_count": null,
   "id": "e39db240",
   "metadata": {},
   "outputs": [
    {
     "name": "stdout",
     "output_type": "stream",
     "text": [
      "name:chetan\n",
      "age:21\n"
     ]
    }
   ],
   "source": [
    "# keywords arguments\n",
    "def print_details(**kwargs):        #kwargs in key value pairs\n",
    "    for key, value in kwargs.items():\n",
    "        print(f\"{key}:{value}\")\n",
    "\n",
    "print_details(name= \"chetan\", age=21)"
   ]
  },
  {
   "cell_type": "code",
   "execution_count": 13,
   "id": "15c7ee2c",
   "metadata": {},
   "outputs": [
    {
     "name": "stdout",
     "output_type": "stream",
     "text": [
      "positional args: 1\n",
      "positional args: 2\n",
      "positional args: 67\n",
      "positional args: 89\n",
      "positional args: dynamic\n",
      "name:chetan\n",
      "age:21\n"
     ]
    }
   ],
   "source": [
    "def print_details(*args, **kwargs):\n",
    "    for val in args:\n",
    "        print(f\"positional args: {val}\")\n",
    "\n",
    "    for key, value in kwargs.items():\n",
    "        print(f\"{key}:{value}\")\n",
    "\n",
    "print_details(1,2,67,89,\"dynamic\",name= \"chetan\", age=21)\n",
    "# sort positional and keyword args"
   ]
  },
  {
   "cell_type": "code",
   "execution_count": null,
   "id": "fc0f7a0a",
   "metadata": {},
   "outputs": [
    {
     "data": {
      "text/plain": [
       "(8, 16)"
      ]
     },
     "execution_count": 15,
     "metadata": {},
     "output_type": "execute_result"
    }
   ],
   "source": [
    "# return statements\n",
    "def mult(a,b):\n",
    "    return a*b, a**b\n",
    "\n",
    "mult(4,2)"
   ]
  }
 ],
 "metadata": {
  "kernelspec": {
   "display_name": "myenv",
   "language": "python",
   "name": "python3"
  },
  "language_info": {
   "codemirror_mode": {
    "name": "ipython",
    "version": 3
   },
   "file_extension": ".py",
   "mimetype": "text/x-python",
   "name": "python",
   "nbconvert_exporter": "python",
   "pygments_lexer": "ipython3",
   "version": "3.13.1"
  }
 },
 "nbformat": 4,
 "nbformat_minor": 5
}
