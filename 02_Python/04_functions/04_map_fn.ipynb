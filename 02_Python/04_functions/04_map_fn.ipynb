{
 "cells": [
  {
   "cell_type": "code",
   "execution_count": 4,
   "id": "29ef55dd",
   "metadata": {},
   "outputs": [
    {
     "data": {
      "text/plain": [
       "81"
      ]
     },
     "execution_count": 4,
     "metadata": {},
     "output_type": "execute_result"
    }
   ],
   "source": [
    "# map fn: iterate over iterable and \n",
    "# applies given function all items of iterable\n",
    "\n",
    "def square(x):\n",
    "    return x*x\n",
    "\n",
    "square(9)\n"
   ]
  },
  {
   "cell_type": "code",
   "execution_count": null,
   "id": "4e31b086",
   "metadata": {},
   "outputs": [
    {
     "data": {
      "text/plain": [
       "[1, 4, 9, 16, 25, 36, 49, 64, 81]"
      ]
     },
     "execution_count": 6,
     "metadata": {},
     "output_type": "execute_result"
    }
   ],
   "source": [
    "# map\n",
    "numbers= [1,2,3,4,5,6,7,8,9]\n",
    "list(map(square,numbers))\n",
    "# applies fn to all elmt"
   ]
  },
  {
   "cell_type": "code",
   "execution_count": null,
   "id": "fda8f137",
   "metadata": {},
   "outputs": [
    {
     "name": "stdout",
     "output_type": "stream",
     "text": [
      "list[<map object at 0x0000018886485BA0>]\n",
      "[5, 12, 21, 32]\n"
     ]
    }
   ],
   "source": [
    "# map multi iterable\n",
    "num1= [1,2,3,4]\n",
    "num2= [5,6,7,8]\n",
    "\n",
    "multiNum=list[map(lambda a,b: a*b, num1,num2)]      #sqre array\n",
    "print(multiNum)\n",
    "\n",
    "multiNum2=list(map(lambda a,b: a*b, num1,num2))     \n",
    "print(multiNum2)\n"
   ]
  },
  {
   "cell_type": "code",
   "execution_count": null,
   "id": "c17a260d",
   "metadata": {},
   "outputs": [
    {
     "name": "stdout",
     "output_type": "stream",
     "text": [
      "<class 'str'>\n",
      "<class 'int'>\n"
     ]
    }
   ],
   "source": [
    "# map() to convert list of string into int\n",
    "str_num= ['1','2','3']\n",
    "print(type(str_num[1]))\n",
    "\n",
    "int_num= list(map(int, str_num))\n",
    "print(type(int_num[1]))"
   ]
  },
  {
   "cell_type": "code",
   "execution_count": 15,
   "id": "c80abcd2",
   "metadata": {},
   "outputs": [
    {
     "name": "stdout",
     "output_type": "stream",
     "text": [
      "['RED', 'GREEN', 'WHITE']\n"
     ]
    }
   ],
   "source": [
    "words= ['red', 'green', 'white']\n",
    "words= list(map(str.upper, words))\n",
    "print(words)"
   ]
  },
  {
   "cell_type": "code",
   "execution_count": null,
   "id": "cd47d85d",
   "metadata": {},
   "outputs": [],
   "source": []
  }
 ],
 "metadata": {
  "kernelspec": {
   "display_name": "myenv",
   "language": "python",
   "name": "python3"
  },
  "language_info": {
   "codemirror_mode": {
    "name": "ipython",
    "version": 3
   },
   "file_extension": ".py",
   "mimetype": "text/x-python",
   "name": "python",
   "nbconvert_exporter": "python",
   "pygments_lexer": "ipython3",
   "version": "3.13.1"
  }
 },
 "nbformat": 4,
 "nbformat_minor": 5
}
