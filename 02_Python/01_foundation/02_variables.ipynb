{
 "cells": [
  {
   "cell_type": "code",
   "execution_count": null,
   "metadata": {},
   "outputs": [
    {
     "name": "stdout",
     "output_type": "stream",
     "text": [
      "chaitanya\n",
      "age :  21\n",
      "name : chaitanya\n",
      "5.11 chaitanya 21\n"
     ]
    }
   ],
   "source": [
    "# declare and assign variables\n",
    "age= 21\n",
    "name= \"chaitanya\"\n",
    "height= 5.11\n",
    "\n",
    "\n",
    "# print\n",
    "print(name)\n",
    "print(\"age : \",age)\n",
    "print(\"name :\",name)\n",
    "print(height, name, age)"
   ]
  },
  {
   "cell_type": "code",
   "execution_count": null,
   "metadata": {},
   "outputs": [],
   "source": [
    "# variable types:\n",
    "# python is dynamically types, var is determined at runtime\n",
    "age = 21\n",
    "height= 5.11\n",
    "name= \"chaitanya\"\n",
    "\n",
    "# datatype declare nahi kar rahe hai"
   ]
  },
  {
   "cell_type": "code",
   "execution_count": 8,
   "metadata": {},
   "outputs": [
    {
     "name": "stdout",
     "output_type": "stream",
     "text": [
      "<class 'int'>\n",
      "<class 'str'>\n"
     ]
    }
   ],
   "source": [
    "# type checking\n",
    "print(type(age))\n",
    "print(type(name))"
   ]
  },
  {
   "cell_type": "code",
   "execution_count": 21,
   "metadata": {},
   "outputs": [
    {
     "name": "stdout",
     "output_type": "stream",
     "text": [
      "<class 'int'>\n",
      "<class 'str'>\n",
      "<class 'str'>\n",
      "<class 'int'>\n",
      "21.0\n",
      "<class 'float'>\n"
     ]
    }
   ],
   "source": [
    "# type conversion\n",
    "age_str= str(age)\n",
    "\n",
    "print(type(age))\n",
    "print(type(age_str))\n",
    "\n",
    "ages= \"21\"\n",
    "print(type(ages))\n",
    "\n",
    "ages_int= int(ages)\n",
    "print(type(ages_int))\n",
    "\n",
    "\n",
    "# type casting\n",
    "ages_float= float(ages_int)\n",
    "print(ages_float)\n",
    "print(type(ages_float))"
   ]
  },
  {
   "cell_type": "code",
   "execution_count": 15,
   "metadata": {},
   "outputs": [
    {
     "ename": "ValueError",
     "evalue": "invalid literal for int() with base 10: 'chaitanya'",
     "output_type": "error",
     "traceback": [
      "\u001b[31m---------------------------------------------------------------------------\u001b[39m",
      "\u001b[31mValueError\u001b[39m                                Traceback (most recent call last)",
      "\u001b[36mCell\u001b[39m\u001b[36m \u001b[39m\u001b[32mIn[15]\u001b[39m\u001b[32m, line 2\u001b[39m\n\u001b[32m      1\u001b[39m \u001b[38;5;66;03m# can't convert full string into int\u001b[39;00m\n\u001b[32m----> \u001b[39m\u001b[32m2\u001b[39m name_int= \u001b[38;5;28;43mint\u001b[39;49m\u001b[43m(\u001b[49m\u001b[43mname\u001b[49m\u001b[43m)\u001b[49m\n\u001b[32m      3\u001b[39m \u001b[38;5;28mprint\u001b[39m(\u001b[38;5;28mtype\u001b[39m(name_int))\n",
      "\u001b[31mValueError\u001b[39m: invalid literal for int() with base 10: 'chaitanya'"
     ]
    }
   ],
   "source": [
    "# can't convert full string into int\n",
    "name_int= int(name)\n",
    "print(type(name_int))"
   ]
  },
  {
   "cell_type": "code",
   "execution_count": null,
   "metadata": {},
   "outputs": [
    {
     "name": "stdout",
     "output_type": "stream",
     "text": [
      "10 <class 'int'>\n",
      "apple <class 'str'>\n"
     ]
    }
   ],
   "source": [
    "# dynamic typing:\n",
    "# python allows the type of variable to change as program executes\n",
    "\n",
    "x= 10\n",
    "print(x, type(x))\n",
    "\n",
    "x= \"apple\"\n",
    "print(x, type(x))\n"
   ]
  },
  {
   "cell_type": "code",
   "execution_count": null,
   "metadata": {},
   "outputs": [
    {
     "name": "stdout",
     "output_type": "stream",
     "text": [
      "21 <class 'str'>\n",
      "21 <class 'int'>\n"
     ]
    }
   ],
   "source": [
    "# input \n",
    "age= input(\"enter the age\")\n",
    "print(age, type(age))       # default type is str\n",
    "\n",
    "\n",
    "age= int(input(\"enter the age(num)\"))\n",
    "print(age, type(age))\n",
    "\n"
   ]
  },
  {
   "cell_type": "code",
   "execution_count": null,
   "metadata": {},
   "outputs": [],
   "source": []
  }
 ],
 "metadata": {
  "kernelspec": {
   "display_name": "myenv",
   "language": "python",
   "name": "python3"
  },
  "language_info": {
   "codemirror_mode": {
    "name": "ipython",
    "version": 3
   },
   "file_extension": ".py",
   "mimetype": "text/x-python",
   "name": "python",
   "nbconvert_exporter": "python",
   "pygments_lexer": "ipython3",
   "version": "3.13.1"
  }
 },
 "nbformat": 4,
 "nbformat_minor": 2
}
