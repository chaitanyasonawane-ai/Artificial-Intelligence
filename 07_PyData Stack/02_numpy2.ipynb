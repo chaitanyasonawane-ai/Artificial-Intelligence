{
  "nbformat": 4,
  "nbformat_minor": 0,
  "metadata": {
    "colab": {
      "provenance": []
    },
    "kernelspec": {
      "name": "python3",
      "display_name": "Python 3"
    },
    "language_info": {
      "name": "python"
    }
  },
  "cells": [
    {
      "cell_type": "code",
      "source": [
        "import numpy as np"
      ],
      "metadata": {
        "id": "NVP_0Kt3pnEu"
      },
      "execution_count": 2,
      "outputs": []
    },
    {
      "cell_type": "code",
      "execution_count": 3,
      "metadata": {
        "id": "4y9Ikypvl761"
      },
      "outputs": [],
      "source": [
        "# arithmetic operations"
      ]
    },
    {
      "cell_type": "code",
      "source": [
        "# methods:\n",
        "\n",
        "# transpose - row to col & col to row\n",
        "arr= np.array([[1,2,3],\n",
        "               [4,5,6],\n",
        "               [7,8,9]])\n",
        "\n",
        "print(arr)\n",
        "\n",
        "print(arr.transpose())\n",
        "print(arr.T)    # T as shortcut attribute"
      ],
      "metadata": {
        "colab": {
          "base_uri": "https://localhost:8080/"
        },
        "id": "vEWr5Igd7aQ1",
        "outputId": "80278d51-5c2c-47dc-c0d0-a422cb72dd8d"
      },
      "execution_count": 4,
      "outputs": [
        {
          "output_type": "stream",
          "name": "stdout",
          "text": [
            "[[1 2 3]\n",
            " [4 5 6]\n",
            " [7 8 9]]\n",
            "[[1 4 7]\n",
            " [2 5 8]\n",
            " [3 6 9]]\n",
            "[[1 4 7]\n",
            " [2 5 8]\n",
            " [3 6 9]]\n"
          ]
        }
      ]
    },
    {
      "cell_type": "code",
      "source": [
        "# sorting - row & col wise\n",
        "\n",
        "arr1= np.array([1,4,3,2,7,5,8,6,4,0])\n",
        "arr1_sort= np.sort(arr1)\n",
        "print(arr1)\n",
        "print(arr1_sort)\n"
      ],
      "metadata": {
        "colab": {
          "base_uri": "https://localhost:8080/"
        },
        "id": "qC7W7YV_MkGF",
        "outputId": "4dcc9afe-2f18-48a7-8098-da50f8a22549"
      },
      "execution_count": 5,
      "outputs": [
        {
          "output_type": "stream",
          "name": "stdout",
          "text": [
            "[1 4 3 2 7 5 8 6 4 0]\n",
            "[0 1 2 3 4 4 5 6 7 8]\n"
          ]
        }
      ]
    },
    {
      "cell_type": "code",
      "source": [
        "arr_2d= np.array([[3,44,66],\n",
        "                  [99,7,3],\n",
        "                  [29,95,66]])\n",
        "\n",
        "arr_sort1= np.sort(arr_2d, axis=1)  # axis=1 --> row sort\n",
        "print(arr_sort1)"
      ],
      "metadata": {
        "colab": {
          "base_uri": "https://localhost:8080/"
        },
        "id": "D7pbQHlAPox4",
        "outputId": "e974a5eb-f1c3-4a34-f3a0-30d9e06a1320"
      },
      "execution_count": 6,
      "outputs": [
        {
          "output_type": "stream",
          "name": "stdout",
          "text": [
            "[[ 3 44 66]\n",
            " [ 3  7 99]\n",
            " [29 66 95]]\n"
          ]
        }
      ]
    },
    {
      "cell_type": "code",
      "source": [
        "arr_sort2= np.sort(arr_2d, axis=0)  # axis= 0 --> col sort\n",
        "print(arr_sort2)"
      ],
      "metadata": {
        "colab": {
          "base_uri": "https://localhost:8080/"
        },
        "id": "F-LLPmTdQ1TM",
        "outputId": "1902f694-dfee-4459-a9bf-8e75f56921e4"
      },
      "execution_count": 7,
      "outputs": [
        {
          "output_type": "stream",
          "name": "stdout",
          "text": [
            "[[ 3  7  3]\n",
            " [29 44 66]\n",
            " [99 95 66]]\n"
          ]
        }
      ]
    },
    {
      "cell_type": "code",
      "source": [
        "# argsort()- indices of sorted\n",
        "\n",
        "arr_argsort= np.argsort(arr1)\n",
        "print(\"indices of sorted array:\", arr_argsort)"
      ],
      "metadata": {
        "colab": {
          "base_uri": "https://localhost:8080/"
        },
        "id": "LUws8gk8Rgmk",
        "outputId": "58ee387b-5f62-48c5-ea99-ba7e06af4e6f"
      },
      "execution_count": 8,
      "outputs": [
        {
          "output_type": "stream",
          "name": "stdout",
          "text": [
            "indices of sorted array: [9 0 3 2 8 1 5 7 4 6]\n"
          ]
        }
      ]
    },
    {
      "cell_type": "code",
      "source": [
        "# scores= np.random.randfloat(0,10, size=4)\n",
        "\n",
        "# ranking systems\n",
        "scores= np.array([0.12, 0.4, 0.2, 0.9, 0.5])\n",
        "print(scores)\n",
        "\n",
        "argsort_sc= np.argsort(scores)\n",
        "print(argsort_sc)\n",
        "\n",
        "top3= argsort_sc[-3:][::-1]\n",
        "print(top3)\n",
        "\n",
        "print(scores[3])"
      ],
      "metadata": {
        "colab": {
          "base_uri": "https://localhost:8080/"
        },
        "id": "OXS3SSyLT2tQ",
        "outputId": "ac6eebe3-e176-4e76-86e5-adf45277ee48"
      },
      "execution_count": 9,
      "outputs": [
        {
          "output_type": "stream",
          "name": "stdout",
          "text": [
            "[0.12 0.4  0.2  0.9  0.5 ]\n",
            "[0 2 1 4 3]\n",
            "[3 4 1]\n",
            "0.9\n"
          ]
        }
      ]
    },
    {
      "cell_type": "code",
      "source": [
        "# concatenate\n",
        "\n",
        "a= np.array([1,2,3])\n",
        "b= np.array([77,88,99])\n",
        "\n",
        "res= np.concatenate((a,b))\n",
        "print(res)\n"
      ],
      "metadata": {
        "colab": {
          "base_uri": "https://localhost:8080/"
        },
        "id": "NQRLPXnoYPsL",
        "outputId": "e98c3e8d-f2a6-42fb-ae59-cfe3ac9a9e0f"
      },
      "execution_count": 10,
      "outputs": [
        {
          "output_type": "stream",
          "name": "stdout",
          "text": [
            "[ 1  2  3 77 88 99]\n"
          ]
        }
      ]
    },
    {
      "cell_type": "code",
      "source": [
        "arr1= np.array([[13,55,67],\n",
        "                [23,55,77]])\n",
        "arr2= np.array([[34,56,88],\n",
        "                [23,60,37]])\n",
        "\n",
        "res1= np.concatenate((arr1, arr2), axis=1)\n",
        "res0= np.concatenate((arr1, arr2), axis=0)\n",
        "\n",
        "print(res1)   # aixs=1 col connect\n",
        "print(res0)\n",
        "\n"
      ],
      "metadata": {
        "colab": {
          "base_uri": "https://localhost:8080/"
        },
        "id": "44ul9o1fbyq2",
        "outputId": "4f0a2079-0733-4541-c6b1-5c046e468eba"
      },
      "execution_count": 11,
      "outputs": [
        {
          "output_type": "stream",
          "name": "stdout",
          "text": [
            "[[13 55 67 34 56 88]\n",
            " [23 55 77 23 60 37]]\n",
            "[[13 55 67]\n",
            " [23 55 77]\n",
            " [34 56 88]\n",
            " [23 60 37]]\n"
          ]
        }
      ]
    },
    {
      "cell_type": "code",
      "source": [
        "# reshape : change existing arr\n",
        "\n",
        "arr_1d= np.array([1,2,3,4,5,6,7,8,9])\n",
        "print(arr_1d)\n",
        "\n",
        "arr_2d= arr_1d.reshape(3,3)\n",
        "print(arr_2d)"
      ],
      "metadata": {
        "colab": {
          "base_uri": "https://localhost:8080/"
        },
        "id": "2unpVIUHd-wI",
        "outputId": "4328f363-b486-479c-a6da-a1869c6d2ea1"
      },
      "execution_count": 12,
      "outputs": [
        {
          "output_type": "stream",
          "name": "stdout",
          "text": [
            "[1 2 3 4 5 6 7 8 9]\n",
            "[[1 2 3]\n",
            " [4 5 6]\n",
            " [7 8 9]]\n"
          ]
        }
      ]
    },
    {
      "cell_type": "code",
      "source": [
        "# conactenate --> numpy [arr focused]\n",
        "# concat --> pandas"
      ],
      "metadata": {
        "id": "Prm8AZXGfYPQ"
      },
      "execution_count": 13,
      "outputs": []
    },
    {
      "cell_type": "code",
      "source": [
        "# split() -->\n",
        "\n",
        "split_arr= np.split(arr_1d, 3)\n",
        "print(split_arr)"
      ],
      "metadata": {
        "colab": {
          "base_uri": "https://localhost:8080/"
        },
        "id": "L64S8slJhWbA",
        "outputId": "243cf220-c9cf-4880-c3e3-42221d55e168"
      },
      "execution_count": 14,
      "outputs": [
        {
          "output_type": "stream",
          "name": "stdout",
          "text": [
            "[array([1, 2, 3]), array([4, 5, 6]), array([7, 8, 9])]\n"
          ]
        }
      ]
    },
    {
      "cell_type": "code",
      "source": [
        "print(arr_2d)\n",
        "print(arr_2d.reshape(-1))"
      ],
      "metadata": {
        "colab": {
          "base_uri": "https://localhost:8080/"
        },
        "id": "TUSktWbuh0nf",
        "outputId": "522668dd-0734-4a43-a7a2-44237b250dc8"
      },
      "execution_count": 15,
      "outputs": [
        {
          "output_type": "stream",
          "name": "stdout",
          "text": [
            "[[1 2 3]\n",
            " [4 5 6]\n",
            " [7 8 9]]\n",
            "[1 2 3 4 5 6 7 8 9]\n"
          ]
        }
      ]
    },
    {
      "cell_type": "markdown",
      "source": [
        "stats operations:\n",
        "- np.mean\n",
        "- np.median\n",
        "- np.min\n",
        "- np.max\n",
        "- np.sum\n",
        "- np.std --> standard deviation"
      ],
      "metadata": {
        "id": "CRuAH37Elz-U"
      }
    },
    {
      "cell_type": "code",
      "source": [
        "# stats operations: mean, median, mode, standard deviation,\n",
        "#  min and max, sum\n",
        "\n",
        "print(np.mean(arr_2d))\n",
        "\n",
        "sum_2d= np.sum(arr_2d)\n",
        "print(sum_2d)\n",
        "\n",
        "std_dev= np.std(arr_2d)\n",
        "print(std_dev)"
      ],
      "metadata": {
        "colab": {
          "base_uri": "https://localhost:8080/"
        },
        "id": "PV6xtrqEinIn",
        "outputId": "7f0b197f-6db8-4b49-e8f7-8abde6245cfb"
      },
      "execution_count": 16,
      "outputs": [
        {
          "output_type": "stream",
          "name": "stdout",
          "text": [
            "5.0\n",
            "45\n",
            "2.581988897471611\n"
          ]
        }
      ]
    },
    {
      "cell_type": "code",
      "source": [
        "# data creation / array creation\n",
        "\n",
        "arr= np.zeros(9)\n",
        "print(arr)\n",
        "\n",
        "arr2= np.zeros((3,4))\n",
        "print(arr2)\n",
        "\n",
        "arr3= np.zeros((3,4,3), dtype=int)\n",
        "print(arr3)"
      ],
      "metadata": {
        "colab": {
          "base_uri": "https://localhost:8080/"
        },
        "id": "mCXHkx6MmS-u",
        "outputId": "75ea31c9-fb9a-44c8-a700-cdfef2b21db1"
      },
      "execution_count": 17,
      "outputs": [
        {
          "output_type": "stream",
          "name": "stdout",
          "text": [
            "[0. 0. 0. 0. 0. 0. 0. 0. 0.]\n",
            "[[0. 0. 0. 0.]\n",
            " [0. 0. 0. 0.]\n",
            " [0. 0. 0. 0.]]\n",
            "[[[0 0 0]\n",
            "  [0 0 0]\n",
            "  [0 0 0]\n",
            "  [0 0 0]]\n",
            "\n",
            " [[0 0 0]\n",
            "  [0 0 0]\n",
            "  [0 0 0]\n",
            "  [0 0 0]]\n",
            "\n",
            " [[0 0 0]\n",
            "  [0 0 0]\n",
            "  [0 0 0]\n",
            "  [0 0 0]]]\n"
          ]
        }
      ]
    },
    {
      "cell_type": "code",
      "source": [
        "a1= np.ones(7, dtype=int)\n",
        "print(a1)\n",
        "\n",
        "\n",
        "a2= np.ones((2,3), dtype= str)\n",
        "print(a2)\n"
      ],
      "metadata": {
        "colab": {
          "base_uri": "https://localhost:8080/"
        },
        "id": "-xYTT70BmZCL",
        "outputId": "05204f3d-8b5e-4785-ef33-1276db96bc65"
      },
      "execution_count": 18,
      "outputs": [
        {
          "output_type": "stream",
          "name": "stdout",
          "text": [
            "[1 1 1 1 1 1 1]\n",
            "[['1' '1' '1']\n",
            " ['1' '1' '1']]\n"
          ]
        }
      ]
    },
    {
      "cell_type": "code",
      "source": [
        "amix= np.full(5,7) # (size, value)\n",
        "print(amix)"
      ],
      "metadata": {
        "colab": {
          "base_uri": "https://localhost:8080/"
        },
        "id": "VEoHQn0WnUHl",
        "outputId": "cd2d578b-4de6-43f9-d1ba-9aaf62d21e55"
      },
      "execution_count": 19,
      "outputs": [
        {
          "output_type": "stream",
          "name": "stdout",
          "text": [
            "[7 7 7 7 7]\n"
          ]
        }
      ]
    },
    {
      "cell_type": "code",
      "source": [
        "identity_mx= np.eye(4,4)\n",
        "print(identity_mx)"
      ],
      "metadata": {
        "colab": {
          "base_uri": "https://localhost:8080/"
        },
        "id": "sLP4Ng2LBBSu",
        "outputId": "5dc90f74-b5ca-4ed0-cd85-c0099abe12a2"
      },
      "execution_count": 23,
      "outputs": [
        {
          "output_type": "stream",
          "name": "stdout",
          "text": [
            "[[1. 0. 0. 0.]\n",
            " [0. 1. 0. 0.]\n",
            " [0. 0. 1. 0.]\n",
            " [0. 0. 0. 1.]]\n"
          ]
        }
      ]
    },
    {
      "cell_type": "code",
      "source": [
        "# np.arange(start, stop, stepsize)\n",
        "\n",
        "arr= np.arange(13,35,3)\n",
        "print(arr)"
      ],
      "metadata": {
        "colab": {
          "base_uri": "https://localhost:8080/"
        },
        "id": "3aimCStRBrmK",
        "outputId": "91537662-b3e6-45d7-dbf7-0e24e3d9fa3a"
      },
      "execution_count": 26,
      "outputs": [
        {
          "output_type": "stream",
          "name": "stdout",
          "text": [
            "[13 16 19 22 25 28 31 34]\n"
          ]
        }
      ]
    },
    {
      "cell_type": "code",
      "source": [
        "arr2= np.random.random(6)\n",
        "print(arr2)"
      ],
      "metadata": {
        "colab": {
          "base_uri": "https://localhost:8080/"
        },
        "id": "OwDCRfLqCAQZ",
        "outputId": "dbf7bc50-0600-4090-ef19-1da5ac608f71"
      },
      "execution_count": 28,
      "outputs": [
        {
          "output_type": "stream",
          "name": "stdout",
          "text": [
            "[0.42315563 0.69248392 0.18351375 0.2817596  0.02965944 0.4845014 ]\n"
          ]
        }
      ]
    },
    {
      "cell_type": "code",
      "source": [
        "arr2= np.random.random((3,3))\n",
        "print(arr2)"
      ],
      "metadata": {
        "colab": {
          "base_uri": "https://localhost:8080/"
        },
        "id": "sb2O6jD9CuCB",
        "outputId": "12d8ea13-d352-4778-85dd-11f753a2fcf2"
      },
      "execution_count": 30,
      "outputs": [
        {
          "output_type": "stream",
          "name": "stdout",
          "text": [
            "[[0.77495013 0.72405789 0.2174663 ]\n",
            " [0.51586111 0.56789168 0.07560722]\n",
            " [0.3592611  0.60636263 0.71237742]]\n"
          ]
        }
      ]
    },
    {
      "cell_type": "code",
      "source": [
        "# linspace(start,stop,num, endpoint, retstep, dtype)\n",
        "\n",
        "arr_line= np.linspace(3,6,5, dtype=float)\n",
        "# divide based on\n",
        "print(arr_line)"
      ],
      "metadata": {
        "colab": {
          "base_uri": "https://localhost:8080/"
        },
        "id": "gI8d3QxdC2OM",
        "outputId": "e3a4cc3d-60be-4487-eda9-87f9e053a5e1"
      },
      "execution_count": 34,
      "outputs": [
        {
          "output_type": "stream",
          "name": "stdout",
          "text": [
            "[3.   3.75 4.5  5.25 6.  ]\n"
          ]
        }
      ]
    },
    {
      "cell_type": "code",
      "source": [],
      "metadata": {
        "id": "Qicv7gXjEVUR"
      },
      "execution_count": null,
      "outputs": []
    }
  ]
}